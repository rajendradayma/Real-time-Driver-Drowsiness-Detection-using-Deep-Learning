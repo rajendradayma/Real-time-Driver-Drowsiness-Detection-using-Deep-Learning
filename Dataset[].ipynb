{
 "cells": [
  {
   "cell_type": "code",
   "execution_count": 12,
   "id": "28f89148",
   "metadata": {},
   "outputs": [],
   "source": [
    "import os\n",
    "import shutil\n",
    "import glob\n",
    "from tqdm import tqdm\n"
   ]
  },
  {
   "cell_type": "code",
   "execution_count": 13,
   "id": "de32ba5a",
   "metadata": {},
   "outputs": [
    {
     "name": "stderr",
     "output_type": "stream",
     "text": [
      "0it [00:00, ?it/s]\n",
      "100%|██████████| 3242/3242 [00:22<00:00, 141.95it/s]\n",
      "100%|██████████| 1114/1114 [00:07<00:00, 141.38it/s]\n",
      "100%|██████████| 679/679 [00:04<00:00, 140.64it/s]\n",
      "100%|██████████| 1069/1069 [00:07<00:00, 141.92it/s]\n",
      "100%|██████████| 736/736 [00:04<00:00, 147.85it/s]\n",
      "100%|██████████| 1012/1012 [00:07<00:00, 142.99it/s]\n",
      "100%|██████████| 624/624 [00:04<00:00, 142.79it/s]\n",
      "100%|██████████| 832/832 [00:05<00:00, 142.51it/s]\n",
      "100%|██████████| 387/387 [00:02<00:00, 134.87it/s]\n",
      "100%|██████████| 399/399 [00:02<00:00, 136.08it/s]\n",
      "100%|██████████| 1648/1648 [00:11<00:00, 140.98it/s]\n",
      "100%|██████████| 8728/8728 [01:02<00:00, 139.06it/s]\n",
      "100%|██████████| 3605/3605 [00:24<00:00, 146.06it/s]\n",
      "100%|██████████| 8884/8884 [01:08<00:00, 129.33it/s]\n",
      "100%|██████████| 1132/1132 [00:08<00:00, 138.71it/s]\n",
      "100%|██████████| 1889/1889 [00:12<00:00, 145.82it/s]\n",
      "100%|██████████| 1648/1648 [00:11<00:00, 144.72it/s]\n",
      "100%|██████████| 4410/4410 [00:30<00:00, 146.05it/s]\n",
      "100%|██████████| 6175/6175 [00:47<00:00, 129.64it/s]\n",
      "100%|██████████| 704/704 [00:06<00:00, 116.62it/s]\n",
      "100%|██████████| 987/987 [00:08<00:00, 115.02it/s]\n",
      "100%|██████████| 382/382 [00:03<00:00, 95.93it/s] \n",
      "100%|██████████| 522/522 [00:04<00:00, 107.70it/s]\n",
      "100%|██████████| 752/752 [00:06<00:00, 109.75it/s]\n",
      "100%|██████████| 1502/1502 [00:13<00:00, 108.49it/s]\n",
      "100%|██████████| 1246/1246 [00:10<00:00, 115.02it/s]\n",
      "100%|██████████| 665/665 [00:05<00:00, 114.64it/s]\n",
      "100%|██████████| 736/736 [00:06<00:00, 109.47it/s]\n",
      "100%|██████████| 1393/1393 [00:12<00:00, 111.80it/s]\n",
      "100%|██████████| 1384/1384 [00:12<00:00, 107.74it/s]\n",
      "100%|██████████| 1738/1738 [00:15<00:00, 112.87it/s]\n",
      "100%|██████████| 6162/6162 [00:54<00:00, 112.62it/s]\n",
      "100%|██████████| 681/681 [00:05<00:00, 113.66it/s]\n",
      "100%|██████████| 739/739 [00:06<00:00, 111.99it/s]\n",
      "100%|██████████| 642/642 [00:05<00:00, 110.13it/s]\n",
      "100%|██████████| 6193/6193 [00:54<00:00, 114.28it/s]\n",
      "100%|██████████| 10257/10257 [01:19<00:00, 128.97it/s]\n"
     ]
    }
   ],
   "source": [
    "Raw_DIR= r'C:\\Users\\Saranya Katare\\Downloads\\mrlEyes_2018_01\\mrlEyes_2018_01'\n",
    "for dirpath, dirname, filenames in os.walk(Raw_DIR):\n",
    "    for i in tqdm([f for f in filenames if f.endswith('.png')]):\n",
    "        if i.split('_')[4]=='0':\n",
    "            shutil.copy(src=dirpath+'/'+i, dst=r'C:\\Users\\Saranya Katare\\Downloads\\mrlEyes_2018_01\\prepread data\\closed eyes')\n",
    "        \n",
    "        elif i.split('_')[4]=='1':\n",
    "            shutil.copy(src=dirpath+'/'+i, dst=r'C:\\Users\\Saranya Katare\\Downloads\\mrlEyes_2018_01\\prepread data\\open eyes')"
   ]
  },
  {
   "cell_type": "code",
   "execution_count": null,
   "id": "2ed26f39",
   "metadata": {},
   "outputs": [],
   "source": []
  },
  {
   "cell_type": "code",
   "execution_count": null,
   "id": "1c45befd",
   "metadata": {},
   "outputs": [],
   "source": []
  },
  {
   "cell_type": "code",
   "execution_count": null,
   "id": "062557a6",
   "metadata": {},
   "outputs": [],
   "source": []
  }
 ],
 "metadata": {
  "kernelspec": {
   "display_name": "Python 3 (ipykernel)",
   "language": "python",
   "name": "python3"
  },
  "language_info": {
   "codemirror_mode": {
    "name": "ipython",
    "version": 3
   },
   "file_extension": ".py",
   "mimetype": "text/x-python",
   "name": "python",
   "nbconvert_exporter": "python",
   "pygments_lexer": "ipython3",
   "version": "3.9.12"
  }
 },
 "nbformat": 4,
 "nbformat_minor": 5
}
